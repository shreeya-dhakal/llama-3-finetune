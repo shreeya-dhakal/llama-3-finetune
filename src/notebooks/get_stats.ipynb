{
 "cells": [
  {
   "cell_type": "code",
   "execution_count": 1,
   "metadata": {},
   "outputs": [],
   "source": [
    "import pandas as pd"
   ]
  },
  {
   "cell_type": "code",
   "execution_count": 49,
   "metadata": {},
   "outputs": [],
   "source": [
    "df = pd.read_csv(\"../../infer_out/hindi_lora_all_scores.csv\")"
   ]
  },
  {
   "cell_type": "code",
   "execution_count": 50,
   "metadata": {},
   "outputs": [
    {
     "data": {
      "text/html": [
       "<div>\n",
       "<style scoped>\n",
       "    .dataframe tbody tr th:only-of-type {\n",
       "        vertical-align: middle;\n",
       "    }\n",
       "\n",
       "    .dataframe tbody tr th {\n",
       "        vertical-align: top;\n",
       "    }\n",
       "\n",
       "    .dataframe thead th {\n",
       "        text-align: right;\n",
       "    }\n",
       "</style>\n",
       "<table border=\"1\" class=\"dataframe\">\n",
       "  <thead>\n",
       "    <tr style=\"text-align: right;\">\n",
       "      <th></th>\n",
       "      <th>input</th>\n",
       "      <th>instruction</th>\n",
       "      <th>output</th>\n",
       "      <th>generated_text</th>\n",
       "      <th>model_response</th>\n",
       "      <th>cleaned_response</th>\n",
       "      <th>relevance_score</th>\n",
       "      <th>cc_score</th>\n",
       "      <th>syntax_score</th>\n",
       "      <th>complete_score</th>\n",
       "      <th>hallucination_type</th>\n",
       "      <th>is_repeat</th>\n",
       "      <th>expected_out_word_count</th>\n",
       "      <th>actual_out_word_count</th>\n",
       "      <th>rouge1</th>\n",
       "      <th>rouge2</th>\n",
       "      <th>rougeL</th>\n",
       "      <th>bleurt</th>\n",
       "    </tr>\n",
       "  </thead>\n",
       "  <tbody>\n",
       "    <tr>\n",
       "      <th>0</th>\n",
       "      <td>वह पार्टी से जल्दी चली गई</td>\n",
       "      <td>निम्नलिखित वाक्य को और अधिक दिलचस्प बनाने के ल...</td>\n",
       "      <td>वह पार्टी से जल्दी ही चली गई।</td>\n",
       "      <td>&lt;|begin_of_text|&gt;Below is an instruction in Hi...</td>\n",
       "      <td>वह जल्दी पार्टी से चली गई।</td>\n",
       "      <td>वह जल्दी पार्टी से चली गई।&lt;|end_of_text|&gt;</td>\n",
       "      <td>7</td>\n",
       "      <td>6</td>\n",
       "      <td>8</td>\n",
       "      <td>5</td>\n",
       "      <td>NaN</td>\n",
       "      <td>No</td>\n",
       "      <td>7</td>\n",
       "      <td>6</td>\n",
       "      <td>0.000000</td>\n",
       "      <td>0.000000</td>\n",
       "      <td>0.000000</td>\n",
       "      <td>0.754621</td>\n",
       "    </tr>\n",
       "    <tr>\n",
       "      <th>1</th>\n",
       "      <td>NaN</td>\n",
       "      <td>f(x) = {[ -x - 3 यदि x ≤ 1, x/2 + 1 यदि x &gt; 1....</td>\n",
       "      <td>हम समीकरण f(x) = 0 को x ≤ 1 और x &gt; 1 डोमेन पर ...</td>\n",
       "      <td>&lt;|begin_of_text|&gt;Below is an instruction in Hi...</td>\n",
       "      <td>f(x) = {[ -x - 3 यदि x ≤ 1, x/2 + 1 यदि x &gt; 1....</td>\n",
       "      <td>f(x) = {[ -x - 3 यदि x ≤ 1, x/2 + 1 यदि x &gt; 1....</td>\n",
       "      <td>5</td>\n",
       "      <td>4</td>\n",
       "      <td>4</td>\n",
       "      <td>3</td>\n",
       "      <td>factual</td>\n",
       "      <td>No</td>\n",
       "      <td>99</td>\n",
       "      <td>167</td>\n",
       "      <td>0.698113</td>\n",
       "      <td>0.692308</td>\n",
       "      <td>0.660377</td>\n",
       "      <td>0.552580</td>\n",
       "    </tr>\n",
       "    <tr>\n",
       "      <th>2</th>\n",
       "      <td>NaN</td>\n",
       "      <td>एक गर्मियों के दिन के बारे में एक हाइकु कविता ...</td>\n",
       "      <td>मेरे चेहरे पर गर्म हवा अंतहीन सूरज खुशी और शां...</td>\n",
       "      <td>&lt;|begin_of_text|&gt;Below is an instruction in Hi...</td>\n",
       "      <td>सुनहरी सूर्यास्त, गर्म हवा, गर्मियों का दिन, श...</td>\n",
       "      <td>सुनहरी सूर्यास्त, गर्म हवा, गर्मियों का दिन, श...</td>\n",
       "      <td>8</td>\n",
       "      <td>6</td>\n",
       "      <td>7</td>\n",
       "      <td>5</td>\n",
       "      <td>NaN</td>\n",
       "      <td>No</td>\n",
       "      <td>17</td>\n",
       "      <td>9</td>\n",
       "      <td>0.000000</td>\n",
       "      <td>0.000000</td>\n",
       "      <td>0.000000</td>\n",
       "      <td>0.370326</td>\n",
       "    </tr>\n",
       "    <tr>\n",
       "      <th>3</th>\n",
       "      <td>NaN</td>\n",
       "      <td>मशीन लर्निंग मॉडल की सटीकता में सुधार के लिए क...</td>\n",
       "      <td>मशीन लर्निंग मॉडल की सटीकता में सुधार करने के ...</td>\n",
       "      <td>&lt;|begin_of_text|&gt;Below is an instruction in Hi...</td>\n",
       "      <td>मशीन लर्निंग मॉडल की सटीकता में सुधार करने के ...</td>\n",
       "      <td>मशीन लर्निंग मॉडल की सटीकता में सुधार करने के ...</td>\n",
       "      <td>8</td>\n",
       "      <td>7</td>\n",
       "      <td>6</td>\n",
       "      <td>6</td>\n",
       "      <td>NaN</td>\n",
       "      <td>No</td>\n",
       "      <td>187</td>\n",
       "      <td>187</td>\n",
       "      <td>0.666667</td>\n",
       "      <td>0.461538</td>\n",
       "      <td>0.666667</td>\n",
       "      <td>0.554651</td>\n",
       "    </tr>\n",
       "    <tr>\n",
       "      <th>4</th>\n",
       "      <td>________ और __________ को कम करके ग्लोबल वार्म...</td>\n",
       "      <td>वाक्य को पूरा करने के लिए रिक्त स्थान भरें।</td>\n",
       "      <td>ग्रीनहाउस गैस उत्सर्जन और वनों की कटाई को कम क...</td>\n",
       "      <td>&lt;|begin_of_text|&gt;Below is an instruction in Hi...</td>\n",
       "      <td>कार्बन उत्सर्जन और ग्रीनहाउस गैसों को कम करके ...</td>\n",
       "      <td>कार्बन उत्सर्जन और ग्रीनहाउस गैसों को कम करके ...</td>\n",
       "      <td>10</td>\n",
       "      <td>10</td>\n",
       "      <td>10</td>\n",
       "      <td>10</td>\n",
       "      <td>NaN</td>\n",
       "      <td>No</td>\n",
       "      <td>18</td>\n",
       "      <td>16</td>\n",
       "      <td>0.000000</td>\n",
       "      <td>0.000000</td>\n",
       "      <td>0.000000</td>\n",
       "      <td>0.671161</td>\n",
       "    </tr>\n",
       "  </tbody>\n",
       "</table>\n",
       "</div>"
      ],
      "text/plain": [
       "                                               input  \\\n",
       "0                          वह पार्टी से जल्दी चली गई   \n",
       "1                                                NaN   \n",
       "2                                                NaN   \n",
       "3                                                NaN   \n",
       "4  ________ और __________ को कम करके ग्लोबल वार्म...   \n",
       "\n",
       "                                         instruction  \\\n",
       "0  निम्नलिखित वाक्य को और अधिक दिलचस्प बनाने के ल...   \n",
       "1  f(x) = {[ -x - 3 यदि x ≤ 1, x/2 + 1 यदि x > 1....   \n",
       "2  एक गर्मियों के दिन के बारे में एक हाइकु कविता ...   \n",
       "3  मशीन लर्निंग मॉडल की सटीकता में सुधार के लिए क...   \n",
       "4        वाक्य को पूरा करने के लिए रिक्त स्थान भरें।   \n",
       "\n",
       "                                              output  \\\n",
       "0                      वह पार्टी से जल्दी ही चली गई।   \n",
       "1  हम समीकरण f(x) = 0 को x ≤ 1 और x > 1 डोमेन पर ...   \n",
       "2  मेरे चेहरे पर गर्म हवा अंतहीन सूरज खुशी और शां...   \n",
       "3  मशीन लर्निंग मॉडल की सटीकता में सुधार करने के ...   \n",
       "4  ग्रीनहाउस गैस उत्सर्जन और वनों की कटाई को कम क...   \n",
       "\n",
       "                                      generated_text  \\\n",
       "0  <|begin_of_text|>Below is an instruction in Hi...   \n",
       "1  <|begin_of_text|>Below is an instruction in Hi...   \n",
       "2  <|begin_of_text|>Below is an instruction in Hi...   \n",
       "3  <|begin_of_text|>Below is an instruction in Hi...   \n",
       "4  <|begin_of_text|>Below is an instruction in Hi...   \n",
       "\n",
       "                                      model_response  \\\n",
       "0                         वह जल्दी पार्टी से चली गई।   \n",
       "1  f(x) = {[ -x - 3 यदि x ≤ 1, x/2 + 1 यदि x > 1....   \n",
       "2  सुनहरी सूर्यास्त, गर्म हवा, गर्मियों का दिन, श...   \n",
       "3  मशीन लर्निंग मॉडल की सटीकता में सुधार करने के ...   \n",
       "4  कार्बन उत्सर्जन और ग्रीनहाउस गैसों को कम करके ...   \n",
       "\n",
       "                                    cleaned_response  relevance_score  \\\n",
       "0          वह जल्दी पार्टी से चली गई।<|end_of_text|>                7   \n",
       "1  f(x) = {[ -x - 3 यदि x ≤ 1, x/2 + 1 यदि x > 1....                5   \n",
       "2  सुनहरी सूर्यास्त, गर्म हवा, गर्मियों का दिन, श...                8   \n",
       "3  मशीन लर्निंग मॉडल की सटीकता में सुधार करने के ...                8   \n",
       "4  कार्बन उत्सर्जन और ग्रीनहाउस गैसों को कम करके ...               10   \n",
       "\n",
       "   cc_score  syntax_score  complete_score hallucination_type is_repeat  \\\n",
       "0         6             8               5                NaN        No   \n",
       "1         4             4               3            factual        No   \n",
       "2         6             7               5                NaN        No   \n",
       "3         7             6               6                NaN        No   \n",
       "4        10            10              10                NaN        No   \n",
       "\n",
       "   expected_out_word_count  actual_out_word_count    rouge1    rouge2  \\\n",
       "0                        7                      6  0.000000  0.000000   \n",
       "1                       99                    167  0.698113  0.692308   \n",
       "2                       17                      9  0.000000  0.000000   \n",
       "3                      187                    187  0.666667  0.461538   \n",
       "4                       18                     16  0.000000  0.000000   \n",
       "\n",
       "     rougeL    bleurt  \n",
       "0  0.000000  0.754621  \n",
       "1  0.660377  0.552580  \n",
       "2  0.000000  0.370326  \n",
       "3  0.666667  0.554651  \n",
       "4  0.000000  0.671161  "
      ]
     },
     "execution_count": 50,
     "metadata": {},
     "output_type": "execute_result"
    }
   ],
   "source": [
    "df.head()"
   ]
  },
  {
   "cell_type": "code",
   "execution_count": 51,
   "metadata": {},
   "outputs": [
    {
     "data": {
      "text/plain": [
       "hallucination_type\n",
       "factual          23\n",
       "nonsensical      16\n",
       "repeat            4\n",
       "contradiction     3\n",
       "Name: count, dtype: int64"
      ]
     },
     "execution_count": 51,
     "metadata": {},
     "output_type": "execute_result"
    }
   ],
   "source": [
    "df[\"hallucination_type\"].value_counts()\n",
    "# df.loc[df[\"hallucination_type\"] == \"factual, nonsensical, contradiction\", \"hallucination_type\"] = \"\"\n",
    "# df.to_csv(\"../../infer_out/hindi_lora_all_scores.csv\", index=False)"
   ]
  },
  {
   "cell_type": "code",
   "execution_count": 46,
   "metadata": {},
   "outputs": [],
   "source": [
    "df = df[df['hallucination_type'] != 'no hallucination']"
   ]
  },
  {
   "cell_type": "code",
   "execution_count": 47,
   "metadata": {},
   "outputs": [
    {
     "data": {
      "text/plain": [
       "hallucination_type\n",
       "factual          23\n",
       "nonsensical      16\n",
       "repeat            4\n",
       "contradiction     3\n",
       "Name: count, dtype: int64"
      ]
     },
     "execution_count": 47,
     "metadata": {},
     "output_type": "execute_result"
    }
   ],
   "source": [
    "df[\"hallucination_type\"].value_counts()"
   ]
  },
  {
   "cell_type": "code",
   "execution_count": 48,
   "metadata": {},
   "outputs": [],
   "source": [
    "df.to_csv(\"../../infer_out/hindi_lora_all_scores.csv\", index=False)"
   ]
  },
  {
   "cell_type": "code",
   "execution_count": 34,
   "metadata": {},
   "outputs": [],
   "source": [
    "df.loc[df[\"is_repeat\"] == \"yes\", \"is_repeat\"] = \"Yes\""
   ]
  },
  {
   "cell_type": "code",
   "execution_count": 35,
   "metadata": {},
   "outputs": [
    {
     "data": {
      "text/plain": [
       "is_repeat\n",
       "No     164\n",
       "Yes     36\n",
       "Name: count, dtype: int64"
      ]
     },
     "execution_count": 35,
     "metadata": {},
     "output_type": "execute_result"
    }
   ],
   "source": [
    "df[\"is_repeat\"].value_counts()"
   ]
  },
  {
   "cell_type": "code",
   "execution_count": 3,
   "metadata": {},
   "outputs": [],
   "source": [
    "# df_2 = pd.read_csv(\"../../infer_out/df_gpt_4_score_Nepali_baseline.csv\")"
   ]
  },
  {
   "cell_type": "code",
   "execution_count": 3,
   "metadata": {},
   "outputs": [
    {
     "data": {
      "text/html": [
       "<div>\n",
       "<style scoped>\n",
       "    .dataframe tbody tr th:only-of-type {\n",
       "        vertical-align: middle;\n",
       "    }\n",
       "\n",
       "    .dataframe tbody tr th {\n",
       "        vertical-align: top;\n",
       "    }\n",
       "\n",
       "    .dataframe thead th {\n",
       "        text-align: right;\n",
       "    }\n",
       "</style>\n",
       "<table border=\"1\" class=\"dataframe\">\n",
       "  <thead>\n",
       "    <tr style=\"text-align: right;\">\n",
       "      <th></th>\n",
       "      <th>input</th>\n",
       "      <th>instruction</th>\n",
       "      <th>output</th>\n",
       "      <th>generated_text</th>\n",
       "      <th>model_response</th>\n",
       "      <th>cleaned_response</th>\n",
       "      <th>relevance_score</th>\n",
       "      <th>cc_score</th>\n",
       "      <th>syntax_score</th>\n",
       "      <th>complete_score</th>\n",
       "      <th>hallucination_type</th>\n",
       "      <th>is_repeat</th>\n",
       "    </tr>\n",
       "  </thead>\n",
       "  <tbody>\n",
       "    <tr>\n",
       "      <th>0</th>\n",
       "      <td>वह पार्टी से जल्दी चली गई</td>\n",
       "      <td>निम्नलिखित वाक्य को और अधिक दिलचस्प बनाने के ल...</td>\n",
       "      <td>वह पार्टी से जल्दी ही चली गई।</td>\n",
       "      <td>&lt;|begin_of_text|&gt;Below is an instruction in Hi...</td>\n",
       "      <td>वह पार्टी से जल्दी चली गई, क्योंकि वह काम पर ज...</td>\n",
       "      <td>वह पार्टी से जल्दी चली गई, क्योंकि वह काम पर ज...</td>\n",
       "      <td>8</td>\n",
       "      <td>7</td>\n",
       "      <td>8</td>\n",
       "      <td>7</td>\n",
       "      <td>NaN</td>\n",
       "      <td>No</td>\n",
       "    </tr>\n",
       "    <tr>\n",
       "      <th>1</th>\n",
       "      <td>NaN</td>\n",
       "      <td>f(x) = {[ -x - 3 यदि x ≤ 1, x/2 + 1 यदि x &gt; 1....</td>\n",
       "      <td>हम समीकरण f(x) = 0 को x ≤ 1 और x &gt; 1 डोमेन पर ...</td>\n",
       "      <td>&lt;|begin_of_text|&gt;Below is an instruction in Hi...</td>\n",
       "      <td>f(x) = {[ -x - 3 यदि x ≤ 1, x/2 + 1 यदि x &gt; 1....</td>\n",
       "      <td>f(x) = {[ -x - 3 यदि x ≤ 1, x/2 + 1 यदि x &gt; 1....</td>\n",
       "      <td>1</td>\n",
       "      <td>1</td>\n",
       "      <td>1</td>\n",
       "      <td>1</td>\n",
       "      <td>nonsensical</td>\n",
       "      <td>Yes</td>\n",
       "    </tr>\n",
       "    <tr>\n",
       "      <th>2</th>\n",
       "      <td>NaN</td>\n",
       "      <td>एक गर्मियों के दिन के बारे में एक हाइकु कविता ...</td>\n",
       "      <td>मेरे चेहरे पर गर्म हवा अंतहीन सूरज खुशी और शां...</td>\n",
       "      <td>&lt;|begin_of_text|&gt;Below is an instruction in Hi...</td>\n",
       "      <td>काली छत्तीस\\nलहरों में बिखरी हुई\\nबगीचे की बेल</td>\n",
       "      <td>काली छत्तीस\\nलहरों में बिखरी हुई\\nबगीचे की बेल...</td>\n",
       "      <td>4</td>\n",
       "      <td>5</td>\n",
       "      <td>6</td>\n",
       "      <td>3</td>\n",
       "      <td>NaN</td>\n",
       "      <td>No</td>\n",
       "    </tr>\n",
       "    <tr>\n",
       "      <th>3</th>\n",
       "      <td>NaN</td>\n",
       "      <td>मशीन लर्निंग मॉडल की सटीकता में सुधार के लिए क...</td>\n",
       "      <td>मशीन लर्निंग मॉडल की सटीकता में सुधार करने के ...</td>\n",
       "      <td>&lt;|begin_of_text|&gt;Below is an instruction in Hi...</td>\n",
       "      <td>NaN</td>\n",
       "      <td>&lt;|end_of_text|&gt;</td>\n",
       "      <td>1</td>\n",
       "      <td>1</td>\n",
       "      <td>1</td>\n",
       "      <td>1</td>\n",
       "      <td>NaN</td>\n",
       "      <td>No</td>\n",
       "    </tr>\n",
       "    <tr>\n",
       "      <th>4</th>\n",
       "      <td>________ और __________ को कम करके ग्लोबल वार्म...</td>\n",
       "      <td>वाक्य को पूरा करने के लिए रिक्त स्थान भरें।</td>\n",
       "      <td>ग्रीनहाउस गैस उत्सर्जन और वनों की कटाई को कम क...</td>\n",
       "      <td>&lt;|begin_of_text|&gt;Below is an instruction in Hi...</td>\n",
       "      <td>बिजली के बिना और कार्बन डाइऑक्साइड के बिना</td>\n",
       "      <td>बिजली के बिना और कार्बन डाइऑक्साइड के बिना&lt;|en...</td>\n",
       "      <td>6</td>\n",
       "      <td>6</td>\n",
       "      <td>8</td>\n",
       "      <td>5</td>\n",
       "      <td>NaN</td>\n",
       "      <td>No</td>\n",
       "    </tr>\n",
       "  </tbody>\n",
       "</table>\n",
       "</div>"
      ],
      "text/plain": [
       "                                               input  \\\n",
       "0                          वह पार्टी से जल्दी चली गई   \n",
       "1                                                NaN   \n",
       "2                                                NaN   \n",
       "3                                                NaN   \n",
       "4  ________ और __________ को कम करके ग्लोबल वार्म...   \n",
       "\n",
       "                                         instruction  \\\n",
       "0  निम्नलिखित वाक्य को और अधिक दिलचस्प बनाने के ल...   \n",
       "1  f(x) = {[ -x - 3 यदि x ≤ 1, x/2 + 1 यदि x > 1....   \n",
       "2  एक गर्मियों के दिन के बारे में एक हाइकु कविता ...   \n",
       "3  मशीन लर्निंग मॉडल की सटीकता में सुधार के लिए क...   \n",
       "4        वाक्य को पूरा करने के लिए रिक्त स्थान भरें।   \n",
       "\n",
       "                                              output  \\\n",
       "0                      वह पार्टी से जल्दी ही चली गई।   \n",
       "1  हम समीकरण f(x) = 0 को x ≤ 1 और x > 1 डोमेन पर ...   \n",
       "2  मेरे चेहरे पर गर्म हवा अंतहीन सूरज खुशी और शां...   \n",
       "3  मशीन लर्निंग मॉडल की सटीकता में सुधार करने के ...   \n",
       "4  ग्रीनहाउस गैस उत्सर्जन और वनों की कटाई को कम क...   \n",
       "\n",
       "                                      generated_text  \\\n",
       "0  <|begin_of_text|>Below is an instruction in Hi...   \n",
       "1  <|begin_of_text|>Below is an instruction in Hi...   \n",
       "2  <|begin_of_text|>Below is an instruction in Hi...   \n",
       "3  <|begin_of_text|>Below is an instruction in Hi...   \n",
       "4  <|begin_of_text|>Below is an instruction in Hi...   \n",
       "\n",
       "                                      model_response  \\\n",
       "0  वह पार्टी से जल्दी चली गई, क्योंकि वह काम पर ज...   \n",
       "1  f(x) = {[ -x - 3 यदि x ≤ 1, x/2 + 1 यदि x > 1....   \n",
       "2     काली छत्तीस\\nलहरों में बिखरी हुई\\nबगीचे की बेल   \n",
       "3                                                NaN   \n",
       "4         बिजली के बिना और कार्बन डाइऑक्साइड के बिना   \n",
       "\n",
       "                                    cleaned_response  relevance_score  \\\n",
       "0  वह पार्टी से जल्दी चली गई, क्योंकि वह काम पर ज...                8   \n",
       "1  f(x) = {[ -x - 3 यदि x ≤ 1, x/2 + 1 यदि x > 1....                1   \n",
       "2  काली छत्तीस\\nलहरों में बिखरी हुई\\nबगीचे की बेल...                4   \n",
       "3                                    <|end_of_text|>                1   \n",
       "4  बिजली के बिना और कार्बन डाइऑक्साइड के बिना<|en...                6   \n",
       "\n",
       "   cc_score  syntax_score  complete_score hallucination_type is_repeat  \n",
       "0         7             8               7                NaN        No  \n",
       "1         1             1               1        nonsensical       Yes  \n",
       "2         5             6               3                NaN        No  \n",
       "3         1             1               1                NaN        No  \n",
       "4         6             8               5                NaN        No  "
      ]
     },
     "execution_count": 3,
     "metadata": {},
     "output_type": "execute_result"
    }
   ],
   "source": [
    "df.head()"
   ]
  },
  {
   "cell_type": "code",
   "execution_count": 4,
   "metadata": {},
   "outputs": [],
   "source": [
    "def get_word_count(text):\n",
    "    return (len(text.strip().split()))"
   ]
  },
  {
   "cell_type": "code",
   "execution_count": 5,
   "metadata": {},
   "outputs": [],
   "source": [
    "df['expected_out_word_count'] = df['output'].apply(get_word_count)"
   ]
  },
  {
   "cell_type": "code",
   "execution_count": 6,
   "metadata": {},
   "outputs": [],
   "source": [
    "df['actual_out_word_count'] = df['cleaned_response'].apply(get_word_count)"
   ]
  },
  {
   "cell_type": "code",
   "execution_count": 7,
   "metadata": {},
   "outputs": [],
   "source": [
    "# from bleurt import score"
   ]
  },
  {
   "cell_type": "code",
   "execution_count": 9,
   "metadata": {},
   "outputs": [],
   "source": [
    "# checkpoint =\"/Users/shreeyadhakal/Desktop/Projects-2023/bleurt/BLEURT-20\""
   ]
  },
  {
   "cell_type": "code",
   "execution_count": 7,
   "metadata": {},
   "outputs": [
    {
     "name": "stdout",
     "output_type": "stream",
     "text": [
      "Collecting git+https://github.com/google-research/bleurt.git\n",
      "  Cloning https://github.com/google-research/bleurt.git to /private/var/folders/lc/0twrrp_j4pv4ptyd83_pjzdh0000gn/T/pip-req-build-6ek_o0t9\n",
      "  Running command git clone --filter=blob:none --quiet https://github.com/google-research/bleurt.git /private/var/folders/lc/0twrrp_j4pv4ptyd83_pjzdh0000gn/T/pip-req-build-6ek_o0t9\n",
      "  Resolved https://github.com/google-research/bleurt.git to commit cebe7e6f996b40910cfaa520a63db47807e3bf5c\n",
      "  Preparing metadata (setup.py) ... \u001b[?25ldone\n",
      "\u001b[?25hRequirement already satisfied: pandas in /Users/shreeyadhakal/Desktop/Projects-2023/venv/lib/python3.9/site-packages (from BLEURT==0.0.2) (2.2.2)\n",
      "Requirement already satisfied: numpy in /Users/shreeyadhakal/Desktop/Projects-2023/venv/lib/python3.9/site-packages (from BLEURT==0.0.2) (1.26.4)\n",
      "Requirement already satisfied: scipy in /Users/shreeyadhakal/Desktop/Projects-2023/venv/lib/python3.9/site-packages (from BLEURT==0.0.2) (1.13.0)\n",
      "Requirement already satisfied: tensorflow in /Users/shreeyadhakal/Desktop/Projects-2023/venv/lib/python3.9/site-packages (from BLEURT==0.0.2) (2.17.0)\n",
      "Requirement already satisfied: tf-slim>=1.1 in /Users/shreeyadhakal/Desktop/Projects-2023/venv/lib/python3.9/site-packages (from BLEURT==0.0.2) (1.1.0)\n",
      "Requirement already satisfied: sentencepiece in /Users/shreeyadhakal/Desktop/Projects-2023/venv/lib/python3.9/site-packages (from BLEURT==0.0.2) (0.2.0)\n",
      "Requirement already satisfied: absl-py>=0.2.2 in /Users/shreeyadhakal/Desktop/Projects-2023/venv/lib/python3.9/site-packages (from tf-slim>=1.1->BLEURT==0.0.2) (2.1.0)\n",
      "Requirement already satisfied: python-dateutil>=2.8.2 in /Users/shreeyadhakal/Desktop/Projects-2023/venv/lib/python3.9/site-packages (from pandas->BLEURT==0.0.2) (2.9.0.post0)\n",
      "Requirement already satisfied: pytz>=2020.1 in /Users/shreeyadhakal/Desktop/Projects-2023/venv/lib/python3.9/site-packages (from pandas->BLEURT==0.0.2) (2024.1)\n",
      "Requirement already satisfied: tzdata>=2022.7 in /Users/shreeyadhakal/Desktop/Projects-2023/venv/lib/python3.9/site-packages (from pandas->BLEURT==0.0.2) (2024.1)\n",
      "Requirement already satisfied: astunparse>=1.6.0 in /Users/shreeyadhakal/Desktop/Projects-2023/venv/lib/python3.9/site-packages (from tensorflow->BLEURT==0.0.2) (1.6.3)\n",
      "Requirement already satisfied: flatbuffers>=24.3.25 in /Users/shreeyadhakal/Desktop/Projects-2023/venv/lib/python3.9/site-packages (from tensorflow->BLEURT==0.0.2) (24.3.25)\n",
      "Requirement already satisfied: gast!=0.5.0,!=0.5.1,!=0.5.2,>=0.2.1 in /Users/shreeyadhakal/Desktop/Projects-2023/venv/lib/python3.9/site-packages (from tensorflow->BLEURT==0.0.2) (0.6.0)\n",
      "Requirement already satisfied: google-pasta>=0.1.1 in /Users/shreeyadhakal/Desktop/Projects-2023/venv/lib/python3.9/site-packages (from tensorflow->BLEURT==0.0.2) (0.2.0)\n",
      "Requirement already satisfied: h5py>=3.10.0 in /Users/shreeyadhakal/Desktop/Projects-2023/venv/lib/python3.9/site-packages (from tensorflow->BLEURT==0.0.2) (3.11.0)\n",
      "Requirement already satisfied: libclang>=13.0.0 in /Users/shreeyadhakal/Desktop/Projects-2023/venv/lib/python3.9/site-packages (from tensorflow->BLEURT==0.0.2) (18.1.1)\n",
      "Requirement already satisfied: ml-dtypes<0.5.0,>=0.3.1 in /Users/shreeyadhakal/Desktop/Projects-2023/venv/lib/python3.9/site-packages (from tensorflow->BLEURT==0.0.2) (0.4.0)\n",
      "Requirement already satisfied: opt-einsum>=2.3.2 in /Users/shreeyadhakal/Desktop/Projects-2023/venv/lib/python3.9/site-packages (from tensorflow->BLEURT==0.0.2) (3.3.0)\n",
      "Requirement already satisfied: packaging in /Users/shreeyadhakal/Desktop/Projects-2023/venv/lib/python3.9/site-packages (from tensorflow->BLEURT==0.0.2) (24.0)\n",
      "Requirement already satisfied: protobuf!=4.21.0,!=4.21.1,!=4.21.2,!=4.21.3,!=4.21.4,!=4.21.5,<5.0.0dev,>=3.20.3 in /Users/shreeyadhakal/Desktop/Projects-2023/venv/lib/python3.9/site-packages (from tensorflow->BLEURT==0.0.2) (3.20.3)\n",
      "Requirement already satisfied: requests<3,>=2.21.0 in /Users/shreeyadhakal/Desktop/Projects-2023/venv/lib/python3.9/site-packages (from tensorflow->BLEURT==0.0.2) (2.31.0)\n",
      "Requirement already satisfied: setuptools in /Users/shreeyadhakal/Desktop/Projects-2023/venv/lib/python3.9/site-packages (from tensorflow->BLEURT==0.0.2) (58.0.4)\n",
      "Requirement already satisfied: six>=1.12.0 in /Users/shreeyadhakal/Desktop/Projects-2023/venv/lib/python3.9/site-packages (from tensorflow->BLEURT==0.0.2) (1.16.0)\n",
      "Requirement already satisfied: termcolor>=1.1.0 in /Users/shreeyadhakal/Desktop/Projects-2023/venv/lib/python3.9/site-packages (from tensorflow->BLEURT==0.0.2) (2.4.0)\n",
      "Requirement already satisfied: typing-extensions>=3.6.6 in /Users/shreeyadhakal/Desktop/Projects-2023/venv/lib/python3.9/site-packages (from tensorflow->BLEURT==0.0.2) (4.11.0)\n",
      "Requirement already satisfied: wrapt>=1.11.0 in /Users/shreeyadhakal/Desktop/Projects-2023/venv/lib/python3.9/site-packages (from tensorflow->BLEURT==0.0.2) (1.16.0)\n",
      "Requirement already satisfied: grpcio<2.0,>=1.24.3 in /Users/shreeyadhakal/Desktop/Projects-2023/venv/lib/python3.9/site-packages (from tensorflow->BLEURT==0.0.2) (1.65.5)\n",
      "Requirement already satisfied: tensorboard<2.18,>=2.17 in /Users/shreeyadhakal/Desktop/Projects-2023/venv/lib/python3.9/site-packages (from tensorflow->BLEURT==0.0.2) (2.17.1)\n",
      "Requirement already satisfied: keras>=3.2.0 in /Users/shreeyadhakal/Desktop/Projects-2023/venv/lib/python3.9/site-packages (from tensorflow->BLEURT==0.0.2) (3.5.0)\n",
      "Requirement already satisfied: tensorflow-io-gcs-filesystem>=0.23.1 in /Users/shreeyadhakal/Desktop/Projects-2023/venv/lib/python3.9/site-packages (from tensorflow->BLEURT==0.0.2) (0.37.1)\n",
      "Requirement already satisfied: wheel<1.0,>=0.23.0 in /Users/shreeyadhakal/Desktop/Projects-2023/venv/lib/python3.9/site-packages (from astunparse>=1.6.0->tensorflow->BLEURT==0.0.2) (0.44.0)\n",
      "Requirement already satisfied: rich in /Users/shreeyadhakal/Desktop/Projects-2023/venv/lib/python3.9/site-packages (from keras>=3.2.0->tensorflow->BLEURT==0.0.2) (13.7.1)\n",
      "Requirement already satisfied: namex in /Users/shreeyadhakal/Desktop/Projects-2023/venv/lib/python3.9/site-packages (from keras>=3.2.0->tensorflow->BLEURT==0.0.2) (0.0.8)\n",
      "Requirement already satisfied: optree in /Users/shreeyadhakal/Desktop/Projects-2023/venv/lib/python3.9/site-packages (from keras>=3.2.0->tensorflow->BLEURT==0.0.2) (0.12.1)\n",
      "Requirement already satisfied: charset-normalizer<4,>=2 in /Users/shreeyadhakal/Desktop/Projects-2023/venv/lib/python3.9/site-packages (from requests<3,>=2.21.0->tensorflow->BLEURT==0.0.2) (3.3.2)\n",
      "Requirement already satisfied: idna<4,>=2.5 in /Users/shreeyadhakal/Desktop/Projects-2023/venv/lib/python3.9/site-packages (from requests<3,>=2.21.0->tensorflow->BLEURT==0.0.2) (2.10)\n",
      "Requirement already satisfied: urllib3<3,>=1.21.1 in /Users/shreeyadhakal/Desktop/Projects-2023/venv/lib/python3.9/site-packages (from requests<3,>=2.21.0->tensorflow->BLEURT==0.0.2) (2.2.1)\n",
      "Requirement already satisfied: certifi>=2017.4.17 in /Users/shreeyadhakal/Desktop/Projects-2023/venv/lib/python3.9/site-packages (from requests<3,>=2.21.0->tensorflow->BLEURT==0.0.2) (2024.2.2)\n",
      "Requirement already satisfied: markdown>=2.6.8 in /Users/shreeyadhakal/Desktop/Projects-2023/venv/lib/python3.9/site-packages (from tensorboard<2.18,>=2.17->tensorflow->BLEURT==0.0.2) (3.7)\n",
      "Requirement already satisfied: tensorboard-data-server<0.8.0,>=0.7.0 in /Users/shreeyadhakal/Desktop/Projects-2023/venv/lib/python3.9/site-packages (from tensorboard<2.18,>=2.17->tensorflow->BLEURT==0.0.2) (0.7.2)\n",
      "Requirement already satisfied: werkzeug>=1.0.1 in /Users/shreeyadhakal/Desktop/Projects-2023/venv/lib/python3.9/site-packages (from tensorboard<2.18,>=2.17->tensorflow->BLEURT==0.0.2) (3.0.3)\n",
      "Requirement already satisfied: importlib-metadata>=4.4 in /Users/shreeyadhakal/Desktop/Projects-2023/venv/lib/python3.9/site-packages (from markdown>=2.6.8->tensorboard<2.18,>=2.17->tensorflow->BLEURT==0.0.2) (7.1.0)\n",
      "Requirement already satisfied: MarkupSafe>=2.1.1 in /Users/shreeyadhakal/Desktop/Projects-2023/venv/lib/python3.9/site-packages (from werkzeug>=1.0.1->tensorboard<2.18,>=2.17->tensorflow->BLEURT==0.0.2) (2.1.5)\n",
      "Requirement already satisfied: markdown-it-py>=2.2.0 in /Users/shreeyadhakal/Desktop/Projects-2023/venv/lib/python3.9/site-packages (from rich->keras>=3.2.0->tensorflow->BLEURT==0.0.2) (3.0.0)\n",
      "Requirement already satisfied: pygments<3.0.0,>=2.13.0 in /Users/shreeyadhakal/Desktop/Projects-2023/venv/lib/python3.9/site-packages (from rich->keras>=3.2.0->tensorflow->BLEURT==0.0.2) (2.17.2)\n",
      "Requirement already satisfied: zipp>=0.5 in /Users/shreeyadhakal/Desktop/Projects-2023/venv/lib/python3.9/site-packages (from importlib-metadata>=4.4->markdown>=2.6.8->tensorboard<2.18,>=2.17->tensorflow->BLEURT==0.0.2) (3.18.1)\n",
      "Requirement already satisfied: mdurl~=0.1 in /Users/shreeyadhakal/Desktop/Projects-2023/venv/lib/python3.9/site-packages (from markdown-it-py>=2.2.0->rich->keras>=3.2.0->tensorflow->BLEURT==0.0.2) (0.1.2)\n"
     ]
    }
   ],
   "source": [
    "!pip install git+https://github.com/google-research/bleurt.git"
   ]
  },
  {
   "cell_type": "code",
   "execution_count": 8,
   "metadata": {},
   "outputs": [
    {
     "name": "stderr",
     "output_type": "stream",
     "text": [
      "/Users/shreeyadhakal/Desktop/Projects-2023/venv/lib/python3.9/site-packages/urllib3/__init__.py:35: NotOpenSSLWarning: urllib3 v2 only supports OpenSSL 1.1.1+, currently the 'ssl' module is compiled with 'LibreSSL 2.8.3'. See: https://github.com/urllib3/urllib3/issues/3020\n",
      "  warnings.warn(\n",
      "/Users/shreeyadhakal/Desktop/Projects-2023/venv/lib/python3.9/site-packages/tqdm/auto.py:21: TqdmWarning: IProgress not found. Please update jupyter and ipywidgets. See https://ipywidgets.readthedocs.io/en/stable/user_install.html\n",
      "  from .autonotebook import tqdm as notebook_tqdm\n"
     ]
    },
    {
     "name": "stdout",
     "output_type": "stream",
     "text": [
      "INFO:tensorflow:Reading checkpoint /Users/shreeyadhakal/.cache/huggingface/metrics/bleurt/BLEURT-20/downloads/extracted/08ced9947241738b16e0c2d69c9f1760f806650b976fc82370ab5026ed15b056/BLEURT-20.\n",
      "INFO:tensorflow:Config file found, reading.\n",
      "INFO:tensorflow:Will load checkpoint BLEURT-20\n",
      "INFO:tensorflow:Loads full paths and checks that files exists.\n",
      "INFO:tensorflow:... name:BLEURT-20\n",
      "INFO:tensorflow:... bert_config_file:bert_config.json\n",
      "INFO:tensorflow:... max_seq_length:512\n",
      "INFO:tensorflow:... vocab_file:None\n",
      "INFO:tensorflow:... do_lower_case:None\n",
      "INFO:tensorflow:... sp_model:sent_piece\n",
      "INFO:tensorflow:... dynamic_seq_length:True\n",
      "INFO:tensorflow:Creating BLEURT scorer.\n",
      "INFO:tensorflow:Creating SentencePiece tokenizer.\n",
      "INFO:tensorflow:Creating SentencePiece tokenizer.\n",
      "INFO:tensorflow:Will load model: /Users/shreeyadhakal/.cache/huggingface/metrics/bleurt/BLEURT-20/downloads/extracted/08ced9947241738b16e0c2d69c9f1760f806650b976fc82370ab5026ed15b056/BLEURT-20/sent_piece.model.\n",
      "INFO:tensorflow:SentencePiece tokenizer created.\n",
      "INFO:tensorflow:Creating Eager Mode predictor.\n",
      "INFO:tensorflow:Loading model.\n"
     ]
    }
   ],
   "source": [
    "import evaluate\n",
    "bleurt = evaluate.load(\"bleurt\", config_name='BLEURT-20', module_type=\"metric\")"
   ]
  },
  {
   "cell_type": "code",
   "execution_count": 10,
   "metadata": {},
   "outputs": [
    {
     "name": "stderr",
     "output_type": "stream",
     "text": [
      "/Users/shreeyadhakal/Desktop/Projects-2023/venv/lib/python3.9/site-packages/urllib3/__init__.py:35: NotOpenSSLWarning: urllib3 v2 only supports OpenSSL 1.1.1+, currently the 'ssl' module is compiled with 'LibreSSL 2.8.3'. See: https://github.com/urllib3/urllib3/issues/3020\n",
      "  warnings.warn(\n",
      "/Users/shreeyadhakal/Desktop/Projects-2023/venv/lib/python3.9/site-packages/tqdm/auto.py:21: TqdmWarning: IProgress not found. Please update jupyter and ipywidgets. See https://ipywidgets.readthedocs.io/en/stable/user_install.html\n",
      "  from .autonotebook import tqdm as notebook_tqdm\n"
     ]
    }
   ],
   "source": [
    "from rouge_score import rouge_scorer\n",
    "\n",
    "\n",
    "def calculate_rouge_bleu(reference, candidate):\n",
    "    scorer = rouge_scorer.RougeScorer(['rouge1', 'rouge2', 'rougeL'], use_stemmer=True)\n",
    "    rouge_scores = scorer.score(reference, candidate)\n",
    "    \n",
    "    # reference_list = [reference.split()]\n",
    "    # candidate_list = candidate.split()\n",
    "    # scorer = score.BleurtScorer(checkpoint)\n",
    "    bleurt_score = bleurt.compute(predictions=[candidate], references=[reference])\n",
    "    \n",
    "    rouge1 = rouge_scores['rouge1'].fmeasure\n",
    "    rouge2 = rouge_scores['rouge2'].fmeasure\n",
    "    rougeL = rouge_scores['rougeL'].fmeasure\n",
    "    \n",
    "    return {\n",
    "        'rouge1': rouge1,\n",
    "        'rouge2': rouge2,\n",
    "        'rougeL': rougeL,\n",
    "        'bleurt': bleurt_score\n",
    "    }"
   ]
  },
  {
   "cell_type": "code",
   "execution_count": 11,
   "metadata": {},
   "outputs": [
    {
     "name": "stderr",
     "output_type": "stream",
     "text": [
      "Downloading builder script: 100%|██████████| 5.20k/5.20k [00:00<00:00, 8.66MB/s]\n",
      "WARNING:evaluate_modules.metrics.evaluate-metric--bleurt.98e148b2f8c4a88aba5037e4e0e90c9fd9ec35dc37a054ded8cfef0fa801ffab.bleurt:Using default BLEURT-Base checkpoint for sequence maximum length 128. You can use a bigger model for better results with e.g.: evaluate.load('bleurt', 'bleurt-large-512').\n",
      "Downloading data: 100%|██████████| 405M/405M [00:23<00:00, 17.4MB/s]\n"
     ]
    },
    {
     "name": "stdout",
     "output_type": "stream",
     "text": [
      "INFO:tensorflow:Reading checkpoint /Users/shreeyadhakal/.cache/huggingface/metrics/bleurt/default/downloads/extracted/ad93974cec20f6de7e51760a5aecfab016d7a36726e5faeb602a7df68c4072bf/bleurt-base-128.\n"
     ]
    },
    {
     "name": "stderr",
     "output_type": "stream",
     "text": [
      "INFO:tensorflow:Reading checkpoint /Users/shreeyadhakal/.cache/huggingface/metrics/bleurt/default/downloads/extracted/ad93974cec20f6de7e51760a5aecfab016d7a36726e5faeb602a7df68c4072bf/bleurt-base-128.\n"
     ]
    },
    {
     "name": "stdout",
     "output_type": "stream",
     "text": [
      "INFO:tensorflow:Config file found, reading.\n"
     ]
    },
    {
     "name": "stderr",
     "output_type": "stream",
     "text": [
      "INFO:tensorflow:Config file found, reading.\n"
     ]
    },
    {
     "name": "stdout",
     "output_type": "stream",
     "text": [
      "INFO:tensorflow:Will load checkpoint bert_custom\n"
     ]
    },
    {
     "name": "stderr",
     "output_type": "stream",
     "text": [
      "INFO:tensorflow:Will load checkpoint bert_custom\n"
     ]
    },
    {
     "name": "stdout",
     "output_type": "stream",
     "text": [
      "INFO:tensorflow:Loads full paths and checks that files exists.\n"
     ]
    },
    {
     "name": "stderr",
     "output_type": "stream",
     "text": [
      "INFO:tensorflow:Loads full paths and checks that files exists.\n"
     ]
    },
    {
     "name": "stdout",
     "output_type": "stream",
     "text": [
      "INFO:tensorflow:... name:bert_custom\n"
     ]
    },
    {
     "name": "stderr",
     "output_type": "stream",
     "text": [
      "INFO:tensorflow:... name:bert_custom\n"
     ]
    },
    {
     "name": "stdout",
     "output_type": "stream",
     "text": [
      "INFO:tensorflow:... vocab_file:vocab.txt\n"
     ]
    },
    {
     "name": "stderr",
     "output_type": "stream",
     "text": [
      "INFO:tensorflow:... vocab_file:vocab.txt\n"
     ]
    },
    {
     "name": "stdout",
     "output_type": "stream",
     "text": [
      "INFO:tensorflow:... bert_config_file:bert_config.json\n"
     ]
    },
    {
     "name": "stderr",
     "output_type": "stream",
     "text": [
      "INFO:tensorflow:... bert_config_file:bert_config.json\n"
     ]
    },
    {
     "name": "stdout",
     "output_type": "stream",
     "text": [
      "INFO:tensorflow:... do_lower_case:True\n"
     ]
    },
    {
     "name": "stderr",
     "output_type": "stream",
     "text": [
      "INFO:tensorflow:... do_lower_case:True\n"
     ]
    },
    {
     "name": "stdout",
     "output_type": "stream",
     "text": [
      "INFO:tensorflow:... max_seq_length:128\n"
     ]
    },
    {
     "name": "stderr",
     "output_type": "stream",
     "text": [
      "INFO:tensorflow:... max_seq_length:128\n"
     ]
    },
    {
     "name": "stdout",
     "output_type": "stream",
     "text": [
      "INFO:tensorflow:Creating BLEURT scorer.\n"
     ]
    },
    {
     "name": "stderr",
     "output_type": "stream",
     "text": [
      "INFO:tensorflow:Creating BLEURT scorer.\n"
     ]
    },
    {
     "name": "stdout",
     "output_type": "stream",
     "text": [
      "INFO:tensorflow:Creating WordPiece tokenizer.\n"
     ]
    },
    {
     "name": "stderr",
     "output_type": "stream",
     "text": [
      "INFO:tensorflow:Creating WordPiece tokenizer.\n"
     ]
    },
    {
     "name": "stdout",
     "output_type": "stream",
     "text": [
      "INFO:tensorflow:WordPiece tokenizer instantiated.\n"
     ]
    },
    {
     "name": "stderr",
     "output_type": "stream",
     "text": [
      "INFO:tensorflow:WordPiece tokenizer instantiated.\n"
     ]
    },
    {
     "name": "stdout",
     "output_type": "stream",
     "text": [
      "INFO:tensorflow:Creating Eager Mode predictor.\n"
     ]
    },
    {
     "name": "stderr",
     "output_type": "stream",
     "text": [
      "INFO:tensorflow:Creating Eager Mode predictor.\n"
     ]
    },
    {
     "name": "stdout",
     "output_type": "stream",
     "text": [
      "INFO:tensorflow:Loading model.\n"
     ]
    },
    {
     "name": "stderr",
     "output_type": "stream",
     "text": [
      "INFO:tensorflow:Loading model.\n"
     ]
    }
   ],
   "source": [
    "from tqdm import tqdm\n",
    "\n",
    "# If you haven't already, enable tqdm pandas integration\n",
    "tqdm.pandas()\n",
    "\n",
    "df['scores'] = df.progress_apply(lambda row: calculate_rouge_bleu(row['output'], row['cleaned_response']), axis=1)\n",
    "\n",
    "df['rouge1'] = df['scores'].apply(lambda x: x['rouge1'])\n",
    "df['rouge2'] = df['scores'].apply(lambda x: x['rouge2'])\n",
    "df['rougeL'] = df['scores'].apply(lambda x: x['rougeL'])\n",
    "df['bleurt'] = df['scores'].apply(lambda x: x['bleurt'])\n",
    "\n",
    "df = df.drop(columns=['scores'])"
   ]
  },
  {
   "cell_type": "code",
   "execution_count": null,
   "metadata": {},
   "outputs": [],
   "source": [
    "df.loc[df[\"hallucination_type\"] == \"Repeat\", \"hallucination_type\"] = \"repeat\"\n",
    "df.loc[df[\"hallucination_type\"] == \"repetition\", \"hallucination_type\"] = \"repeat\"\n",
    "df.loc[df[\"hallucination_type\"] == \"none\", \"hallucination_type\"] = \"no hallucination\""
   ]
  },
  {
   "cell_type": "code",
   "execution_count": null,
   "metadata": {},
   "outputs": [],
   "source": [
    "df.loc[df[\"is_repeat\"] == \"repeat\", \"hallucination_type\"] = \"repeat\""
   ]
  },
  {
   "cell_type": "code",
   "execution_count": null,
   "metadata": {},
   "outputs": [],
   "source": [
    "df.to_csv(\"../../infer_out/hindi_baseline_all_scores.csv\", index=False)"
   ]
  }
 ],
 "metadata": {
  "kernelspec": {
   "display_name": "venv",
   "language": "python",
   "name": "python3"
  },
  "language_info": {
   "codemirror_mode": {
    "name": "ipython",
    "version": 3
   },
   "file_extension": ".py",
   "mimetype": "text/x-python",
   "name": "python",
   "nbconvert_exporter": "python",
   "pygments_lexer": "ipython3",
   "version": "3.9.6"
  }
 },
 "nbformat": 4,
 "nbformat_minor": 2
}
